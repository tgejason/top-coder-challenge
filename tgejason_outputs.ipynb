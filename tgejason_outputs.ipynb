{
  "cells": [
    {
      "cell_type": "code",
      "id": "Bj0rNF7rktOBK2ByndOPhV46",
      "metadata": {
        "tags": [],
        "id": "Bj0rNF7rktOBK2ByndOPhV46",
        "colab": {
          "base_uri": "https://localhost:8080/"
        },
        "outputId": "00e732a2-6c5b-44ea-b541-396abcb0eee5"
      },
      "source": [
        "!ls"
      ],
      "execution_count": 4,
      "outputs": [
        {
          "output_type": "stream",
          "name": "stdout",
          "text": [
            "calculate_reimbursement.py  PRD.md\t\t\t run.sh\n",
            "correlation_matrix.png\t    private_cases.json\t\t run.sh.template\n",
            "data_ingestion.py\t    public_cases.json\t\t visual1.png\n",
            "eval.sh\t\t\t    README.md\t\t\t visual2.png\n",
            "generate_results.sh\t    reimburst_8090.txt\n",
            "INTERVIEWS.md\t\t    reimburstment_calculator.py\n"
          ]
        }
      ]
    },
    {
      "cell_type": "code",
      "source": [
        "!./eval.sh"
      ],
      "metadata": {
        "colab": {
          "base_uri": "https://localhost:8080/"
        },
        "id": "oM3bOD2WjK3F",
        "outputId": "ddd19a7a-20a8-48af-9fff-75e56547991d"
      },
      "id": "oM3bOD2WjK3F",
      "execution_count": 7,
      "outputs": [
        {
          "output_type": "stream",
          "name": "stdout",
          "text": [
            "🧾 Black Box Challenge - Reimbursement System Evaluation\n",
            "=======================================================\n",
            "\n",
            "📊 Running evaluation against 1,000 test cases...\n",
            "\n",
            "Extracting test data...\n",
            "Progress: 0/1000 cases processed...\n",
            "Progress: 100/1000 cases processed...\n",
            "Progress: 200/1000 cases processed...\n",
            "Progress: 300/1000 cases processed...\n",
            "Progress: 400/1000 cases processed...\n",
            "Progress: 500/1000 cases processed...\n",
            "Progress: 600/1000 cases processed...\n",
            "Progress: 700/1000 cases processed...\n",
            "Progress: 800/1000 cases processed...\n",
            "Progress: 900/1000 cases processed...\n",
            "❌ No successful test cases!\n",
            "\n",
            "Your script either:\n",
            "  - Failed to run properly\n",
            "  - Produced invalid output format\n",
            "  - Timed out on all cases\n",
            "\n",
            "Check the errors below for details.\n",
            "\n",
            "⚠️  Errors encountered:\n",
            "  Case 1: Script failed with error: ./eval.sh: ./run.sh: /bin/bash^M: bad interpreter: No such file or directory\n",
            "  Case 2: Script failed with error: ./eval.sh: ./run.sh: /bin/bash^M: bad interpreter: No such file or directory\n",
            "  Case 3: Script failed with error: ./eval.sh: ./run.sh: /bin/bash^M: bad interpreter: No such file or directory\n",
            "  Case 4: Script failed with error: ./eval.sh: ./run.sh: /bin/bash^M: bad interpreter: No such file or directory\n",
            "  Case 5: Script failed with error: ./eval.sh: ./run.sh: /bin/bash^M: bad interpreter: No such file or directory\n",
            "  Case 6: Script failed with error: ./eval.sh: ./run.sh: /bin/bash^M: bad interpreter: No such file or directory\n",
            "  Case 7: Script failed with error: ./eval.sh: ./run.sh: /bin/bash^M: bad interpreter: No such file or directory\n",
            "  Case 8: Script failed with error: ./eval.sh: ./run.sh: /bin/bash^M: bad interpreter: No such file or directory\n",
            "  Case 9: Script failed with error: ./eval.sh: ./run.sh: /bin/bash^M: bad interpreter: No such file or directory\n",
            "  Case 10: Script failed with error: ./eval.sh: ./run.sh: /bin/bash^M: bad interpreter: No such file or directory\n",
            "  ... and 990 more errors\n",
            "\n",
            "📝 Next steps:\n",
            "  1. Fix any script errors shown above\n",
            "  2. Ensure your run.sh outputs only a number\n",
            "  3. Analyze the patterns in the interviews and public cases\n",
            "  4. Test edge cases around trip length and receipt amounts\n",
            "  5. Submit your solution via the Google Form when ready!\n"
          ]
        }
      ]
    },
    {
      "cell_type": "code",
      "source": [
        "!./eval.sh"
      ],
      "metadata": {
        "colab": {
          "base_uri": "https://localhost:8080/"
        },
        "id": "6qyNGy7olH-H",
        "outputId": "21d7863e-a9ce-4e52-edc8-612a5831ce59"
      },
      "id": "6qyNGy7olH-H",
      "execution_count": 9,
      "outputs": [
        {
          "output_type": "stream",
          "name": "stdout",
          "text": [
            "🧾 Black Box Challenge - Reimbursement System Evaluation\n",
            "=======================================================\n",
            "\n",
            "📊 Running evaluation against 1,000 test cases...\n",
            "\n",
            "Extracting test data...\n",
            "Progress: 0/1000 cases processed...\n",
            "Progress: 100/1000 cases processed...\n",
            "Progress: 200/1000 cases processed...\n",
            "Progress: 300/1000 cases processed...\n",
            "Progress: 400/1000 cases processed...\n",
            "Progress: 500/1000 cases processed...\n",
            "Progress: 600/1000 cases processed...\n",
            "Progress: 700/1000 cases processed...\n",
            "Progress: 800/1000 cases processed...\n",
            "Progress: 900/1000 cases processed...\n",
            "✅ Evaluation Complete!\n",
            "\n",
            "📈 Results Summary:\n",
            "  Total test cases: 1000\n",
            "  Successful runs: 960\n",
            "  Exact matches (±$0.01): 0 (0%)\n",
            "  Close matches (±$1.00): 0 (0%)\n",
            "  Average error: $1221.44\n",
            "  Maximum error: $2337.73\n",
            "\n",
            "🎯 Your Score: 122244.00 (lower is better)\n",
            "\n",
            "📚 Keep analyzing the patterns in the interviews and test cases.\n",
            "\n",
            "💡 Tips for improvement:\n",
            "  Check these high-error cases:\n",
            "    Case 871: 14 days, 1020 miles, $1201.75 receipts\n",
            "      Expected: $2337.73, Got: $0.00, Error: $2337.73\n",
            "    Case 149: 7 days, 1006 miles, $1181.33 receipts\n",
            "      Expected: $2279.82, Got: $0.00, Error: $2279.82\n",
            "    Case 335: 9 days, 1155 miles, $1346.4 receipts\n",
            "      Expected: $2248.12, Got: $0.00, Error: $2248.12\n",
            "    Case 385: 14 days, 1122 miles, $1766.25 receipts\n",
            "      Expected: $2239.35, Got: $0.00, Error: $2239.35\n",
            "    Case 590: 13 days, 1140 miles, $1607.8 receipts\n",
            "      Expected: $2214.64, Got: $0.00, Error: $2214.64\n",
            "\n",
            "⚠️  Errors encountered:\n",
            "  Case 91: Script failed with error: Traceback (most recent call last):  File \"/content/top-coder-challenge/calculate_reimbursement.py\", line 116, in <module>    result = calculate_reimbursement(trip_duration_days, miles_traveled, total_receipts_amount)             ^^^^^^^^^^^^^^^^^^^^^^^^^^^^^^^^^^^^^^^^^^^^^^^^^^^^^^^^^^^^^^^^^^^^^^^^^^^^^^^^^^  File \"/content/top-coder-challenge/calculate_reimbursement.py\", line 16, in calculate_reimbursement    miles_traveled = int(miles_traveled)                     ^^^^^^^^^^^^^^^^^^^ValueError: invalid literal for int() with base 10: '344.46'\n",
            "  Case 92: Script failed with error: Traceback (most recent call last):  File \"/content/top-coder-challenge/calculate_reimbursement.py\", line 116, in <module>    result = calculate_reimbursement(trip_duration_days, miles_traveled, total_receipts_amount)             ^^^^^^^^^^^^^^^^^^^^^^^^^^^^^^^^^^^^^^^^^^^^^^^^^^^^^^^^^^^^^^^^^^^^^^^^^^^^^^^^^^  File \"/content/top-coder-challenge/calculate_reimbursement.py\", line 16, in calculate_reimbursement    miles_traveled = int(miles_traveled)                     ^^^^^^^^^^^^^^^^^^^ValueError: invalid literal for int() with base 10: '906.3'\n",
            "  Case 93: Script failed with error: Traceback (most recent call last):  File \"/content/top-coder-challenge/calculate_reimbursement.py\", line 116, in <module>    result = calculate_reimbursement(trip_duration_days, miles_traveled, total_receipts_amount)             ^^^^^^^^^^^^^^^^^^^^^^^^^^^^^^^^^^^^^^^^^^^^^^^^^^^^^^^^^^^^^^^^^^^^^^^^^^^^^^^^^^  File \"/content/top-coder-challenge/calculate_reimbursement.py\", line 16, in calculate_reimbursement    miles_traveled = int(miles_traveled)                     ^^^^^^^^^^^^^^^^^^^ValueError: invalid literal for int() with base 10: '1007.56'\n",
            "  Case 94: Script failed with error: Traceback (most recent call last):  File \"/content/top-coder-challenge/calculate_reimbursement.py\", line 116, in <module>    result = calculate_reimbursement(trip_duration_days, miles_traveled, total_receipts_amount)             ^^^^^^^^^^^^^^^^^^^^^^^^^^^^^^^^^^^^^^^^^^^^^^^^^^^^^^^^^^^^^^^^^^^^^^^^^^^^^^^^^^  File \"/content/top-coder-challenge/calculate_reimbursement.py\", line 16, in calculate_reimbursement    miles_traveled = int(miles_traveled)                     ^^^^^^^^^^^^^^^^^^^ValueError: invalid literal for int() with base 10: '359.62'\n",
            "  Case 95: Script failed with error: Traceback (most recent call last):  File \"/content/top-coder-challenge/calculate_reimbursement.py\", line 116, in <module>    result = calculate_reimbursement(trip_duration_days, miles_traveled, total_receipts_amount)             ^^^^^^^^^^^^^^^^^^^^^^^^^^^^^^^^^^^^^^^^^^^^^^^^^^^^^^^^^^^^^^^^^^^^^^^^^^^^^^^^^^  File \"/content/top-coder-challenge/calculate_reimbursement.py\", line 16, in calculate_reimbursement    miles_traveled = int(miles_traveled)                     ^^^^^^^^^^^^^^^^^^^ValueError: invalid literal for int() with base 10: '362.79'\n",
            "  Case 96: Script failed with error: Traceback (most recent call last):  File \"/content/top-coder-challenge/calculate_reimbursement.py\", line 116, in <module>    result = calculate_reimbursement(trip_duration_days, miles_traveled, total_receipts_amount)             ^^^^^^^^^^^^^^^^^^^^^^^^^^^^^^^^^^^^^^^^^^^^^^^^^^^^^^^^^^^^^^^^^^^^^^^^^^^^^^^^^^  File \"/content/top-coder-challenge/calculate_reimbursement.py\", line 16, in calculate_reimbursement    miles_traveled = int(miles_traveled)                     ^^^^^^^^^^^^^^^^^^^ValueError: invalid literal for int() with base 10: '288.72'\n",
            "  Case 97: Script failed with error: Traceback (most recent call last):  File \"/content/top-coder-challenge/calculate_reimbursement.py\", line 116, in <module>    result = calculate_reimbursement(trip_duration_days, miles_traveled, total_receipts_amount)             ^^^^^^^^^^^^^^^^^^^^^^^^^^^^^^^^^^^^^^^^^^^^^^^^^^^^^^^^^^^^^^^^^^^^^^^^^^^^^^^^^^  File \"/content/top-coder-challenge/calculate_reimbursement.py\", line 16, in calculate_reimbursement    miles_traveled = int(miles_traveled)                     ^^^^^^^^^^^^^^^^^^^ValueError: invalid literal for int() with base 10: '782.17'\n",
            "  Case 98: Script failed with error: Traceback (most recent call last):  File \"/content/top-coder-challenge/calculate_reimbursement.py\", line 116, in <module>    result = calculate_reimbursement(trip_duration_days, miles_traveled, total_receipts_amount)             ^^^^^^^^^^^^^^^^^^^^^^^^^^^^^^^^^^^^^^^^^^^^^^^^^^^^^^^^^^^^^^^^^^^^^^^^^^^^^^^^^^  File \"/content/top-coder-challenge/calculate_reimbursement.py\", line 16, in calculate_reimbursement    miles_traveled = int(miles_traveled)                     ^^^^^^^^^^^^^^^^^^^ValueError: invalid literal for int() with base 10: '623.18'\n",
            "  Case 99: Script failed with error: Traceback (most recent call last):  File \"/content/top-coder-challenge/calculate_reimbursement.py\", line 116, in <module>    result = calculate_reimbursement(trip_duration_days, miles_traveled, total_receipts_amount)             ^^^^^^^^^^^^^^^^^^^^^^^^^^^^^^^^^^^^^^^^^^^^^^^^^^^^^^^^^^^^^^^^^^^^^^^^^^^^^^^^^^  File \"/content/top-coder-challenge/calculate_reimbursement.py\", line 16, in calculate_reimbursement    miles_traveled = int(miles_traveled)                     ^^^^^^^^^^^^^^^^^^^ValueError: invalid literal for int() with base 10: '1061.15'\n",
            "  Case 100: Script failed with error: Traceback (most recent call last):  File \"/content/top-coder-challenge/calculate_reimbursement.py\", line 116, in <module>    result = calculate_reimbursement(trip_duration_days, miles_traveled, total_receipts_amount)             ^^^^^^^^^^^^^^^^^^^^^^^^^^^^^^^^^^^^^^^^^^^^^^^^^^^^^^^^^^^^^^^^^^^^^^^^^^^^^^^^^^  File \"/content/top-coder-challenge/calculate_reimbursement.py\", line 16, in calculate_reimbursement    miles_traveled = int(miles_traveled)                     ^^^^^^^^^^^^^^^^^^^ValueError: invalid literal for int() with base 10: '252.75'\n",
            "  ... and 30 more errors\n",
            "\n",
            "📝 Next steps:\n",
            "  1. Fix any script errors shown above\n",
            "  2. Ensure your run.sh outputs only a number\n",
            "  3. Analyze the patterns in the interviews and public cases\n",
            "  4. Test edge cases around trip length and receipt amounts\n",
            "  5. Submit your solution via the Google Form when ready!\n"
          ]
        }
      ]
    },
    {
      "cell_type": "code",
      "source": [
        "!run.sh 5 250 150.75"
      ],
      "metadata": {
        "colab": {
          "base_uri": "https://localhost:8080/"
        },
        "id": "I-QG0Gu6pFy4",
        "outputId": "1d8aaf1c-dc90-4c3d-a14d-ecee9fc9996e"
      },
      "id": "I-QG0Gu6pFy4",
      "execution_count": 10,
      "outputs": [
        {
          "output_type": "stream",
          "name": "stdout",
          "text": [
            "/bin/bash: line 1: run.sh: command not found\n"
          ]
        }
      ]
    },
    {
      "cell_type": "code",
      "source": [
        "ls"
      ],
      "metadata": {
        "colab": {
          "base_uri": "https://localhost:8080/"
        },
        "id": "BA9a9gkMpK0B",
        "outputId": "2030e194-3263-4b30-cc91-a3cacd01364f"
      },
      "id": "BA9a9gkMpK0B",
      "execution_count": 12,
      "outputs": [
        {
          "output_type": "stream",
          "name": "stdout",
          "text": [
            "\u001b[0m\u001b[01;32mcalculate_reimbursement.py\u001b[0m*  PRD.md                       \u001b[01;32mrun.sh\u001b[0m*\n",
            "correlation_matrix.png       private_cases.json           run.sh.template\n",
            "data_ingestion.py            public_cases.json            visual1.png\n",
            "\u001b[01;32meval.sh\u001b[0m*                     README.md                    visual2.png\n",
            "\u001b[01;32mgenerate_results.sh\u001b[0m*         reimburst_8090.txt\n",
            "INTERVIEWS.md                reimburstment_calculator.py\n"
          ]
        }
      ]
    },
    {
      "cell_type": "code",
      "source": [
        "!./eval.sh"
      ],
      "metadata": {
        "colab": {
          "base_uri": "https://localhost:8080/"
        },
        "id": "Uved_K1NsF_x",
        "outputId": "57507303-69e7-44c1-8413-78fddaaecde4"
      },
      "id": "Uved_K1NsF_x",
      "execution_count": 13,
      "outputs": [
        {
          "output_type": "stream",
          "name": "stdout",
          "text": [
            "🧾 Black Box Challenge - Reimbursement System Evaluation\n",
            "=======================================================\n",
            "\n",
            "📊 Running evaluation against 1,000 test cases...\n",
            "\n",
            "Extracting test data...\n",
            "Progress: 0/1000 cases processed...\n",
            "Progress: 100/1000 cases processed...\n",
            "Progress: 200/1000 cases processed...\n",
            "Progress: 300/1000 cases processed...\n",
            "Progress: 400/1000 cases processed...\n",
            "Progress: 500/1000 cases processed...\n",
            "Progress: 600/1000 cases processed...\n",
            "Progress: 700/1000 cases processed...\n",
            "Progress: 800/1000 cases processed...\n",
            "Progress: 900/1000 cases processed...\n",
            "❌ No successful test cases!\n",
            "\n",
            "Your script either:\n",
            "  - Failed to run properly\n",
            "  - Produced invalid output format\n",
            "  - Timed out on all cases\n",
            "\n",
            "Check the errors below for details.\n",
            "\n",
            "⚠️  Errors encountered:\n",
            "  Case 1: Invalid output format: ---Testingcalculate_reimbursementfunction---Trip1(Duration:3,Miles:150,Receipts:$450.00):PredictedReimbursement=$433.86Trip2(Duration:5,Miles:900,Receipts:$400.00):PredictedReimbursement=$1033.35Trip3(Duration:8,Miles:300,Receipts:$1500.00):PredictedReimbursement=$1508.07Trip4(Duration:2,Miles:80,Receipts:$120.49):PredictedReimbursement=$281.50\n",
            "  Case 2: Invalid output format: ---Testingcalculate_reimbursementfunction---Trip1(Duration:3,Miles:150,Receipts:$450.00):PredictedReimbursement=$433.86Trip2(Duration:5,Miles:900,Receipts:$400.00):PredictedReimbursement=$1033.35Trip3(Duration:8,Miles:300,Receipts:$1500.00):PredictedReimbursement=$1508.07Trip4(Duration:2,Miles:80,Receipts:$120.49):PredictedReimbursement=$281.50\n",
            "  Case 3: Invalid output format: ---Testingcalculate_reimbursementfunction---Trip1(Duration:3,Miles:150,Receipts:$450.00):PredictedReimbursement=$433.86Trip2(Duration:5,Miles:900,Receipts:$400.00):PredictedReimbursement=$1033.35Trip3(Duration:8,Miles:300,Receipts:$1500.00):PredictedReimbursement=$1508.07Trip4(Duration:2,Miles:80,Receipts:$120.49):PredictedReimbursement=$281.50\n",
            "  Case 4: Invalid output format: ---Testingcalculate_reimbursementfunction---Trip1(Duration:3,Miles:150,Receipts:$450.00):PredictedReimbursement=$433.86Trip2(Duration:5,Miles:900,Receipts:$400.00):PredictedReimbursement=$1033.35Trip3(Duration:8,Miles:300,Receipts:$1500.00):PredictedReimbursement=$1508.07Trip4(Duration:2,Miles:80,Receipts:$120.49):PredictedReimbursement=$281.50\n",
            "  Case 5: Invalid output format: ---Testingcalculate_reimbursementfunction---Trip1(Duration:3,Miles:150,Receipts:$450.00):PredictedReimbursement=$433.86Trip2(Duration:5,Miles:900,Receipts:$400.00):PredictedReimbursement=$1033.35Trip3(Duration:8,Miles:300,Receipts:$1500.00):PredictedReimbursement=$1508.07Trip4(Duration:2,Miles:80,Receipts:$120.49):PredictedReimbursement=$281.50\n",
            "  Case 6: Invalid output format: ---Testingcalculate_reimbursementfunction---Trip1(Duration:3,Miles:150,Receipts:$450.00):PredictedReimbursement=$433.86Trip2(Duration:5,Miles:900,Receipts:$400.00):PredictedReimbursement=$1033.35Trip3(Duration:8,Miles:300,Receipts:$1500.00):PredictedReimbursement=$1508.07Trip4(Duration:2,Miles:80,Receipts:$120.49):PredictedReimbursement=$281.50\n",
            "  Case 7: Invalid output format: ---Testingcalculate_reimbursementfunction---Trip1(Duration:3,Miles:150,Receipts:$450.00):PredictedReimbursement=$433.86Trip2(Duration:5,Miles:900,Receipts:$400.00):PredictedReimbursement=$1033.35Trip3(Duration:8,Miles:300,Receipts:$1500.00):PredictedReimbursement=$1508.07Trip4(Duration:2,Miles:80,Receipts:$120.49):PredictedReimbursement=$281.50\n",
            "  Case 8: Invalid output format: ---Testingcalculate_reimbursementfunction---Trip1(Duration:3,Miles:150,Receipts:$450.00):PredictedReimbursement=$433.86Trip2(Duration:5,Miles:900,Receipts:$400.00):PredictedReimbursement=$1033.35Trip3(Duration:8,Miles:300,Receipts:$1500.00):PredictedReimbursement=$1508.07Trip4(Duration:2,Miles:80,Receipts:$120.49):PredictedReimbursement=$281.50\n",
            "  Case 9: Invalid output format: ---Testingcalculate_reimbursementfunction---Trip1(Duration:3,Miles:150,Receipts:$450.00):PredictedReimbursement=$433.86Trip2(Duration:5,Miles:900,Receipts:$400.00):PredictedReimbursement=$1033.35Trip3(Duration:8,Miles:300,Receipts:$1500.00):PredictedReimbursement=$1508.07Trip4(Duration:2,Miles:80,Receipts:$120.49):PredictedReimbursement=$281.50\n",
            "  Case 10: Invalid output format: ---Testingcalculate_reimbursementfunction---Trip1(Duration:3,Miles:150,Receipts:$450.00):PredictedReimbursement=$433.86Trip2(Duration:5,Miles:900,Receipts:$400.00):PredictedReimbursement=$1033.35Trip3(Duration:8,Miles:300,Receipts:$1500.00):PredictedReimbursement=$1508.07Trip4(Duration:2,Miles:80,Receipts:$120.49):PredictedReimbursement=$281.50\n",
            "  ... and 990 more errors\n",
            "\n",
            "📝 Next steps:\n",
            "  1. Fix any script errors shown above\n",
            "  2. Ensure your run.sh outputs only a number\n",
            "  3. Analyze the patterns in the interviews and public cases\n",
            "  4. Test edge cases around trip length and receipt amounts\n",
            "  5. Submit your solution via the Google Form when ready!\n"
          ]
        }
      ]
    },
    {
      "cell_type": "code",
      "source": [
        "!./eval.sh"
      ],
      "metadata": {
        "colab": {
          "base_uri": "https://localhost:8080/"
        },
        "id": "G6wYLOJx0uZV",
        "outputId": "308d50c9-9192-475d-fd8e-e37a3c9d5945"
      },
      "id": "G6wYLOJx0uZV",
      "execution_count": 17,
      "outputs": [
        {
          "output_type": "stream",
          "name": "stdout",
          "text": [
            "🧾 Black Box Challenge - Reimbursement System Evaluation\n",
            "=======================================================\n",
            "\n",
            "📊 Running evaluation against 1,000 test cases...\n",
            "\n",
            "Extracting test data...\n",
            "Progress: 0/1000 cases processed...\n",
            "Progress: 100/1000 cases processed...\n",
            "Progress: 200/1000 cases processed...\n",
            "Progress: 300/1000 cases processed...\n",
            "Progress: 400/1000 cases processed...\n",
            "Progress: 500/1000 cases processed...\n",
            "Progress: 600/1000 cases processed...\n",
            "Progress: 700/1000 cases processed...\n",
            "Progress: 800/1000 cases processed...\n",
            "Progress: 900/1000 cases processed...\n",
            "✅ Evaluation Complete!\n",
            "\n",
            "📈 Results Summary:\n",
            "  Total test cases: 1000\n",
            "  Successful runs: 960\n",
            "  Exact matches (±$0.01): 0 (0%)\n",
            "  Close matches (±$1.00): 26 (2.7%)\n",
            "  Average error: $39.54\n",
            "  Maximum error: $992.79\n",
            "\n",
            "🎯 Your Score: 4054.00 (lower is better)\n",
            "\n",
            "📚 Keep analyzing the patterns in the interviews and test cases.\n",
            "\n",
            "💡 Tips for improvement:\n",
            "  Check these high-error cases:\n",
            "    Case 996: 1 days, 1082 miles, $1809.49 receipts\n",
            "      Expected: $446.94, Got: $1439.73, Error: $992.79\n",
            "    Case 684: 8 days, 795 miles, $1645.99 receipts\n",
            "      Expected: $644.69, Got: $1155.02, Error: $510.33\n",
            "    Case 152: 4 days, 69 miles, $2321.49 receipts\n",
            "      Expected: $322.00, Got: $738.87, Error: $416.87\n",
            "    Case 548: 8 days, 482 miles, $1411.49 receipts\n",
            "      Expected: $631.81, Got: $1014.31, Error: $382.50\n",
            "    Case 367: 11 days, 740 miles, $1171.99 receipts\n",
            "      Expected: $902.09, Got: $1239.84, Error: $337.75\n",
            "\n",
            "⚠️  Errors encountered:\n",
            "  Case 91: Script failed with error: Error: All arguments must be numbers (integers for duration/miles, float for receipts).\n",
            "  Case 92: Script failed with error: Error: All arguments must be numbers (integers for duration/miles, float for receipts).\n",
            "  Case 93: Script failed with error: Error: All arguments must be numbers (integers for duration/miles, float for receipts).\n",
            "  Case 94: Script failed with error: Error: All arguments must be numbers (integers for duration/miles, float for receipts).\n",
            "  Case 95: Script failed with error: Error: All arguments must be numbers (integers for duration/miles, float for receipts).\n",
            "  Case 96: Script failed with error: Error: All arguments must be numbers (integers for duration/miles, float for receipts).\n",
            "  Case 97: Script failed with error: Error: All arguments must be numbers (integers for duration/miles, float for receipts).\n",
            "  Case 98: Script failed with error: Error: All arguments must be numbers (integers for duration/miles, float for receipts).\n",
            "  Case 99: Script failed with error: Error: All arguments must be numbers (integers for duration/miles, float for receipts).\n",
            "  Case 100: Script failed with error: Error: All arguments must be numbers (integers for duration/miles, float for receipts).\n",
            "  ... and 30 more errors\n",
            "\n",
            "📝 Next steps:\n",
            "  1. Fix any script errors shown above\n",
            "  2. Ensure your run.sh outputs only a number\n",
            "  3. Analyze the patterns in the interviews and public cases\n",
            "  4. Test edge cases around trip length and receipt amounts\n",
            "  5. Submit your solution via the Google Form when ready!\n"
          ]
        }
      ]
    },
    {
      "cell_type": "code",
      "source": [
        "!./generate_results.sh"
      ],
      "metadata": {
        "colab": {
          "base_uri": "https://localhost:8080/"
        },
        "id": "cm7HiF0G_IKr",
        "outputId": "ad80b20a-451b-427b-9523-20948bab4cd1"
      },
      "id": "cm7HiF0G_IKr",
      "execution_count": null,
      "outputs": [
        {
          "output_type": "stream",
          "name": "stdout",
          "text": [
            "🧾 Black Box Challenge - Generating Private Results\n",
            "====================================================\n",
            "\n",
            "📊 Processing test cases and generating results...\n",
            "📝 Output will be saved to private_results.txt\n",
            "\n",
            "Extracting test data...\n",
            "Processing 5000 test cases...\n",
            "Progress: 100/5000 cases processed...\n",
            "Progress: 200/5000 cases processed...\n",
            "Progress: 300/5000 cases processed...\n"
          ]
        }
      ]
    }
  ],
  "metadata": {
    "kernelspec": {
      "display_name": "Python 3",
      "language": "python",
      "name": "python3"
    },
    "language_info": {
      "codemirror_mode": {
        "name": "ipython",
        "version": 3
      },
      "file_extension": ".py",
      "mimetype": "text/x-python",
      "name": "python",
      "nbconvert_exporter": "python",
      "pygments_lexer": "ipython3",
      "version": "3.10.10"
    },
    "colab": {
      "provenance": [],
      "name": "tgejason (Jun 7, 2025, 3:30:33 PM)"
    }
  },
  "nbformat": 4,
  "nbformat_minor": 5
}